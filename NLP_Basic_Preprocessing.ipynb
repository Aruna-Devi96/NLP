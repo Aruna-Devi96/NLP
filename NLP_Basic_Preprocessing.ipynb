{
  "nbformat": 4,
  "nbformat_minor": 0,
  "metadata": {
    "colab": {
      "name": "NLP_Basic_Preprocessing.ipynb",
      "provenance": [],
      "collapsed_sections": []
    },
    "kernelspec": {
      "name": "python3",
      "display_name": "Python 3"
    }
  },
  "cells": [
    {
      "cell_type": "code",
      "metadata": {
        "colab": {
          "base_uri": "https://localhost:8080/",
          "height": 35
        },
        "id": "BC6TU5dpMWpF",
        "outputId": "c9999ebe-16b0-4034-e5f5-10b071b1df86"
      },
      "source": [
        "# -*- coding: utf-8 -*-\r\n",
        "\"\"\"\r\n",
        "Created on Monday Dec 21 2020\r\n",
        "@author: Aruna Devi\r\n",
        "\"\"\""
      ],
      "execution_count": 57,
      "outputs": [
        {
          "output_type": "execute_result",
          "data": {
            "application/vnd.google.colaboratory.intrinsic+json": {
              "type": "string"
            },
            "text/plain": [
              "'\\nCreated on Monday Dec 21 2020\\n@author: Aruna Devi\\n'"
            ]
          },
          "metadata": {
            "tags": []
          },
          "execution_count": 57
        }
      ]
    },
    {
      "cell_type": "code",
      "metadata": {
        "id": "1D7VqOSGMmA0"
      },
      "source": [
        "import nltk\r\n",
        "import re"
      ],
      "execution_count": 58,
      "outputs": []
    },
    {
      "cell_type": "code",
      "metadata": {
        "id": "c4l0SOU5MpPZ"
      },
      "source": [
        "from nltk.stem import PorterStemmer \r\n",
        "from nltk.corpus import stopwords"
      ],
      "execution_count": 59,
      "outputs": []
    },
    {
      "cell_type": "code",
      "metadata": {
        "id": "1303dqVLM45h"
      },
      "source": [
        "paragraph = \"\"\"Neuro-linguistic programming (NLP) is a psychological approach that involves analyzing strategies used by successful individuals and applying them to reach a personal goal. It relates thoughts, language, and patterns of behavior learned through experience to specific outcomes.\"\"\""
      ],
      "execution_count": 60,
      "outputs": []
    },
    {
      "cell_type": "code",
      "metadata": {
        "colab": {
          "base_uri": "https://localhost:8080/",
          "height": 52
        },
        "id": "VhRaD0bhNKDj",
        "outputId": "9a974f24-d05c-41d2-ae42-51b92a150955"
      },
      "source": [
        "paragraph"
      ],
      "execution_count": 61,
      "outputs": [
        {
          "output_type": "execute_result",
          "data": {
            "application/vnd.google.colaboratory.intrinsic+json": {
              "type": "string"
            },
            "text/plain": [
              "'Neuro-linguistic programming (NLP) is a psychological approach that involves analyzing strategies used by successful individuals and applying them to reach a personal goal. It relates thoughts, language, and patterns of behavior learned through experience to specific outcomes.'"
            ]
          },
          "metadata": {
            "tags": []
          },
          "execution_count": 61
        }
      ]
    },
    {
      "cell_type": "markdown",
      "metadata": {
        "id": "3xhGjRANNnCZ"
      },
      "source": [
        "### Pre-processing\r\n",
        "1. Convert text to lowercase\r\n",
        "2. Remove numbers\r\n",
        "3. Remove punctuation\r\n",
        "4. Remove whitespaces "
      ]
    },
    {
      "cell_type": "code",
      "metadata": {
        "id": "3M5hnbFINQu-"
      },
      "source": [
        "def text_lowercase(text):\r\n",
        "  text1 = text.lower()\r\n",
        "  return text1\r\n",
        "paragraph = text_lowercase(paragraph)"
      ],
      "execution_count": 62,
      "outputs": []
    },
    {
      "cell_type": "code",
      "metadata": {
        "colab": {
          "base_uri": "https://localhost:8080/",
          "height": 52
        },
        "id": "jtpgyhb-O2iX",
        "outputId": "2921a01d-1ad4-4b6a-fe0e-2174717d4118"
      },
      "source": [
        "paragraph"
      ],
      "execution_count": 63,
      "outputs": [
        {
          "output_type": "execute_result",
          "data": {
            "application/vnd.google.colaboratory.intrinsic+json": {
              "type": "string"
            },
            "text/plain": [
              "'neuro-linguistic programming (nlp) is a psychological approach that involves analyzing strategies used by successful individuals and applying them to reach a personal goal. it relates thoughts, language, and patterns of behavior learned through experience to specific outcomes.'"
            ]
          },
          "metadata": {
            "tags": []
          },
          "execution_count": 63
        }
      ]
    },
    {
      "cell_type": "code",
      "metadata": {
        "id": "vT6xP_TtO8oA"
      },
      "source": [
        "def remove_numbers(text):\r\n",
        "  text = re.sub(r'\\d+', '', text)\r\n",
        "  return text\r\n",
        "paragraph = remove_numbers(paragraph)"
      ],
      "execution_count": 64,
      "outputs": []
    },
    {
      "cell_type": "code",
      "metadata": {
        "id": "gXONl1uARVCg"
      },
      "source": [
        "def remove_whitespaces(text):\r\n",
        "  text = text.strip()\r\n",
        "  text = text.replace('\\n', ' ').replace('\\r', '')\r\n",
        "  return text\r\n",
        "paragraph = remove_whitespaces(paragraph)"
      ],
      "execution_count": 65,
      "outputs": []
    },
    {
      "cell_type": "code",
      "metadata": {
        "colab": {
          "base_uri": "https://localhost:8080/",
          "height": 52
        },
        "id": "tVnT-0YcQBfs",
        "outputId": "9b935f21-3a57-4cf1-bc56-c7fe72fb67d3"
      },
      "source": [
        "paragraph"
      ],
      "execution_count": 66,
      "outputs": [
        {
          "output_type": "execute_result",
          "data": {
            "application/vnd.google.colaboratory.intrinsic+json": {
              "type": "string"
            },
            "text/plain": [
              "'neuro-linguistic programming (nlp) is a psychological approach that involves analyzing strategies used by successful individuals and applying them to reach a personal goal. it relates thoughts, language, and patterns of behavior learned through experience to specific outcomes.'"
            ]
          },
          "metadata": {
            "tags": []
          },
          "execution_count": 66
        }
      ]
    },
    {
      "cell_type": "code",
      "metadata": {
        "colab": {
          "base_uri": "https://localhost:8080/",
          "height": 52
        },
        "id": "Dx8zobJ6RmKM",
        "outputId": "7aa073d1-719d-4631-ce44-8ef9b9d4a694"
      },
      "source": [
        "def remove_punctuation(text): \r\n",
        "\ttranslator = str.maketrans('', '', string.punctuation) \r\n",
        "\treturn text.translate(translator) \r\n",
        "\r\n",
        "paragraph = remove_punctuation(paragraph) \r\n",
        "paragraph"
      ],
      "execution_count": 67,
      "outputs": [
        {
          "output_type": "execute_result",
          "data": {
            "application/vnd.google.colaboratory.intrinsic+json": {
              "type": "string"
            },
            "text/plain": [
              "'neurolinguistic programming nlp is a psychological approach that involves analyzing strategies used by successful individuals and applying them to reach a personal goal it relates thoughts language and patterns of behavior learned through experience to specific outcomes'"
            ]
          },
          "metadata": {
            "tags": []
          },
          "execution_count": 67
        }
      ]
    },
    {
      "cell_type": "code",
      "metadata": {
        "id": "0shYBAQDR0wj"
      },
      "source": [
        ""
      ],
      "execution_count": null,
      "outputs": []
    }
  ]
}